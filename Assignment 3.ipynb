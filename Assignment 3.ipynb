{
 "cells": [
  {
   "cell_type": "code",
   "execution_count": 280,
   "id": "314cc306",
   "metadata": {},
   "outputs": [],
   "source": [
    "import numpy as np\n",
    "import matplotlib.pyplot as plt\n",
    "def minus1(a,b):\n",
    "    list=[*range(a,b+1,1)] #Create the list of numbers\n",
    "\n",
    "    for i in range (b-2):\n",
    "        \n",
    "        a1=random.randint(0,b-1-i) #Choose a random number\n",
    "    \n",
    "        \n",
    "        numbers=[*range(0,b-i)]\n",
    "        numbers.pop(a1) #Remove chosen number from remaining choices\n",
    "        \n",
    "        c=random.randint(0,b-2-i)\n",
    "        \n",
    "        b1=numbers[c]\n",
    "\n",
    "        list[a1]=abs(list[a1]-list[b1]) #Replace one of the chosen numbers with the new number\n",
    "        list.pop(b1) #Remove the other number\n",
    "\n",
    "      \n",
    "    print(abs(list[1]-list[0]))"
   ]
  },
  {
   "cell_type": "code",
   "execution_count": 281,
   "id": "3d3bc140",
   "metadata": {},
   "outputs": [
    {
     "name": "stdout",
     "output_type": "stream",
     "text": [
      "362\n"
     ]
    }
   ],
   "source": [
    "minus1(1,2024)"
   ]
  },
  {
   "cell_type": "code",
   "execution_count": 269,
   "id": "a7059430",
   "metadata": {},
   "outputs": [],
   "source": [
    "def minus(a,b):\n",
    "    r1=[]\n",
    "    x=[]\n",
    "    y=[]\n",
    "    for i in range (50000): #We will test 50000 simulations\n",
    "        list=[*range(a,b+1,1)]\n",
    "\n",
    "        for i in range (b-2):\n",
    "\n",
    "            a1=random.randint(0,b-1-i)\n",
    "\n",
    "\n",
    "            numbers=[*range(0,b-i)]\n",
    "            numbers.pop(a1)\n",
    "\n",
    "            c=random.randint(0,b-2-i)\n",
    "\n",
    "            b1=numbers[c]\n",
    "\n",
    "            list[a1]=abs(list[a1]-list[b1])\n",
    "            list.pop(b1)\n",
    "\n",
    "\n",
    "        r=abs(list[1]-list[0])\n",
    "        r1.append(r) #Create a list of result\n",
    "    print(\"The mean result is\", np.mean(r1))\n",
    "    print(\"The median result is\", np.median(r1))\n",
    "    print(\"The variance is\", np.var(r1, ddof=1))\n",
    "    for i in range (2025): \n",
    "        x.append(i) \n",
    "        y.append(r1.count(i)) #Count the occurance of each outcome\n",
    "    plt.bar(x,y)\n",
    "    plt.xlabel(\"Final Number\")\n",
    "    plt.xlabel(\"Frequenct\")\n",
    "    plt.title(\"Frequncy of Outcomes\")\n",
    "    plt.show()  "
   ]
  },
  {
   "cell_type": "code",
   "execution_count": 263,
   "id": "9e180a86",
   "metadata": {},
   "outputs": [
    {
     "name": "stdout",
     "output_type": "stream",
     "text": [
      "The mean result is 337.93424\n",
      "The median result is 258.0\n",
      "The variance is 85211.90679375827\n"
     ]
    },
    {
     "data": {
      "image/png": "[encoded data removed]",
      "text/plain": [
       "<Figure size 432x288 with 1 Axes>"
      ]
     },
     "metadata": {
      "needs_background": "light"
     },
     "output_type": "display_data"
    }
   ],
   "source": [
    "minus(1,2024)"
   ]
  }
 ],
 "metadata": {
  "kernelspec": {
   "display_name": "Python 3 (ipykernel)",
   "language": "python",
   "name": "python3"
  },
  "language_info": {
   "codemirror_mode": {
    "name": "ipython",
    "version": 3
   },
   "file_extension": ".py",
   "mimetype": "text/x-python",
   "name": "python",
   "nbconvert_exporter": "python",
   "pygments_lexer": "ipython3",
   "version": "3.9.7"
  }
 },
 "nbformat": 4,
 "nbformat_minor": 5
}
